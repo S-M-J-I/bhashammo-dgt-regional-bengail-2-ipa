{
 "cells": [
  {
   "cell_type": "code",
   "execution_count": null,
   "id": "287b5593",
   "metadata": {
    "execution": {
     "iopub.execute_input": "2024-04-06T18:11:32.263399Z",
     "iopub.status.busy": "2024-04-06T18:11:32.262770Z",
     "iopub.status.idle": "2024-04-06T18:11:57.701164Z",
     "shell.execute_reply": "2024-04-06T18:11:57.700294Z"
    },
    "papermill": {
     "duration": 25.454666,
     "end_time": "2024-04-06T18:11:57.703248",
     "exception": false,
     "start_time": "2024-04-06T18:11:32.248582",
     "status": "completed"
    },
    "tags": []
   },
   "outputs": [],
   "source": [
    "# This Python 3 environment comes with many helpful analytics libraries installed\n",
    "# It is defined by the kaggle/python Docker image: https://github.com/kaggle/docker-python\n",
    "# For example, here's several helpful packages to load\n",
    "\n",
    "import os\n",
    "import sys\n",
    "# for dirname, _, filenames in os.walk('/kaggle/input'):\n",
    "#     for filename in filenames:\n",
    "#         print(os.path.join(dirname, filename))\n",
    "import numpy as np # linear algebra\n",
    "import pandas as pd # data processing, CSV file I/O (e.g. pd.read_csv)\n",
    "\n",
    "import re\n",
    "\n",
    "import torch\n",
    "from torch import nn\n",
    "from torch.utils.data import Dataset, DataLoader\n",
    "\n",
    "from datasets import Dataset as DS\n",
    "from datasets import load_metric\n",
    "\n",
    "import seaborn as sn\n",
    "\n",
    "from torchmetrics.text import WordErrorRate, CharErrorRate\n",
    "\n",
    "import matplotlib.pyplot as plt\n",
    "\n",
    "import random\n",
    "\n",
    "import time\n",
    "\n",
    "from sklearn.model_selection import train_test_split, KFold\n",
    "from sklearn.metrics import confusion_matrix\n",
    "from sklearn.preprocessing import MinMaxScaler, StandardScaler\n",
    "\n",
    "\n",
    "import gc\n",
    "\n",
    "import inspect\n",
    "    \n",
    "from transformers import (\n",
    "    AutoTokenizer, \n",
    "    AutoModelForSeq2SeqLM,\n",
    "    DataCollatorForSeq2Seq,\n",
    "    Seq2SeqTrainer, \n",
    "    Seq2SeqTrainingArguments,\n",
    "    pipeline\n",
    ")\n",
    "\n",
    "    \n",
    "print(\"All libraries have been installed successfully!\", end=\"\\r\")"
   ]
  },
  {
   "cell_type": "code",
   "execution_count": null,
   "id": "d871aaab",
   "metadata": {
    "execution": {
     "iopub.execute_input": "2024-04-06T18:11:57.730881Z",
     "iopub.status.busy": "2024-04-06T18:11:57.730076Z",
     "iopub.status.idle": "2024-04-06T18:11:57.810832Z",
     "shell.execute_reply": "2024-04-06T18:11:57.809866Z"
    },
    "papermill": {
     "duration": 0.096271,
     "end_time": "2024-04-06T18:11:57.812792",
     "exception": false,
     "start_time": "2024-04-06T18:11:57.716521",
     "status": "completed"
    },
    "tags": []
   },
   "outputs": [],
   "source": [
    "device = \"cuda\" if torch.cuda.is_available() else \"cpu\""
   ]
  },
  {
   "cell_type": "code",
   "execution_count": null,
   "id": "6496f923",
   "metadata": {
    "execution": {
     "iopub.execute_input": "2024-04-06T18:11:57.839748Z",
     "iopub.status.busy": "2024-04-06T18:11:57.839458Z",
     "iopub.status.idle": "2024-04-06T18:11:58.327342Z",
     "shell.execute_reply": "2024-04-06T18:11:58.326529Z"
    },
    "papermill": {
     "duration": 0.503681,
     "end_time": "2024-04-06T18:11:58.329557",
     "exception": false,
     "start_time": "2024-04-06T18:11:57.825876",
     "status": "completed"
    },
    "tags": []
   },
   "outputs": [],
   "source": [
    "train_df = pd.read_csv(\"/kaggle/input/full-regipa-dataset/trainset.csv\")\n",
    "test_df = pd.read_csv(\"/kaggle/input/full-regipa-dataset/testset.csv\")"
   ]
  },
  {
   "cell_type": "code",
   "execution_count": null,
   "id": "eb29dc02",
   "metadata": {
    "execution": {
     "iopub.execute_input": "2024-04-06T18:11:58.389321Z",
     "iopub.status.busy": "2024-04-06T18:11:58.388765Z",
     "iopub.status.idle": "2024-04-06T18:11:58.412168Z",
     "shell.execute_reply": "2024-04-06T18:11:58.411498Z"
    },
    "papermill": {
     "duration": 0.038661,
     "end_time": "2024-04-06T18:11:58.414040",
     "exception": false,
     "start_time": "2024-04-06T18:11:58.375379",
     "status": "completed"
    },
    "tags": []
   },
   "outputs": [],
   "source": [
    "train_df.dropna(inplace=True)"
   ]
  },
  {
   "cell_type": "code",
   "execution_count": null,
   "id": "06176b75",
   "metadata": {
    "execution": {
     "iopub.execute_input": "2024-04-06T18:11:58.441474Z",
     "iopub.status.busy": "2024-04-06T18:11:58.440557Z",
     "iopub.status.idle": "2024-04-06T18:11:58.460886Z",
     "shell.execute_reply": "2024-04-06T18:11:58.460145Z"
    },
    "papermill": {
     "duration": 0.036154,
     "end_time": "2024-04-06T18:11:58.463122",
     "exception": false,
     "start_time": "2024-04-06T18:11:58.426968",
     "status": "completed"
    },
    "tags": []
   },
   "outputs": [],
   "source": [
    "train_df, val_df = train_test_split(train_df, test_size=0.1, shuffle=True)\n",
    "train_df = train_df.reset_index(drop=True)\n",
    "val_df = val_df.reset_index(drop=True)"
   ]
  },
  {
   "cell_type": "code",
   "execution_count": null,
   "id": "76c1fb38",
   "metadata": {
    "execution": {
     "iopub.execute_input": "2024-04-06T18:11:58.492316Z",
     "iopub.status.busy": "2024-04-06T18:11:58.491717Z",
     "iopub.status.idle": "2024-04-06T18:11:58.495795Z",
     "shell.execute_reply": "2024-04-06T18:11:58.494911Z"
    },
    "papermill": {
     "duration": 0.020377,
     "end_time": "2024-04-06T18:11:58.497875",
     "exception": false,
     "start_time": "2024-04-06T18:11:58.477498",
     "status": "completed"
    },
    "tags": []
   },
   "outputs": [],
   "source": [
    "torch.cuda.empty_cache()"
   ]
  },
  {
   "cell_type": "code",
   "execution_count": null,
   "id": "8d28fc00",
   "metadata": {
    "execution": {
     "iopub.execute_input": "2024-04-06T18:11:58.525510Z",
     "iopub.status.busy": "2024-04-06T18:11:58.525258Z",
     "iopub.status.idle": "2024-04-06T18:12:18.300294Z",
     "shell.execute_reply": "2024-04-06T18:12:18.299286Z"
    },
    "papermill": {
     "duration": 19.791476,
     "end_time": "2024-04-06T18:12:18.302718",
     "exception": false,
     "start_time": "2024-04-06T18:11:58.511242",
     "status": "completed"
    },
    "tags": []
   },
   "outputs": [],
   "source": [
    "MODEL_NAME = \"google/umt5-base\"\n",
    "model = AutoModelForSeq2SeqLM.from_pretrained(MODEL_NAME)\n",
    "tokenizer = AutoTokenizer.from_pretrained(MODEL_NAME)"
   ]
  },
  {
   "cell_type": "code",
   "execution_count": null,
   "id": "969c0c55",
   "metadata": {
    "execution": {
     "iopub.execute_input": "2024-04-06T18:12:18.329710Z",
     "iopub.status.busy": "2024-04-06T18:12:18.329403Z",
     "iopub.status.idle": "2024-04-06T18:12:18.336148Z",
     "shell.execute_reply": "2024-04-06T18:12:18.335456Z"
    },
    "papermill": {
     "duration": 0.022105,
     "end_time": "2024-04-06T18:12:18.338042",
     "exception": false,
     "start_time": "2024-04-06T18:12:18.315937",
     "status": "completed"
    },
    "tags": []
   },
   "outputs": [],
   "source": [
    "t = train_df[\"Contents\"][0]\n",
    "f = tokenizer.encode(t)"
   ]
  },
  {
   "cell_type": "code",
   "execution_count": null,
   "id": "4007ae64",
   "metadata": {
    "execution": {
     "iopub.execute_input": "2024-04-06T18:12:18.364162Z",
     "iopub.status.busy": "2024-04-06T18:12:18.363873Z",
     "iopub.status.idle": "2024-04-06T18:12:18.369660Z",
     "shell.execute_reply": "2024-04-06T18:12:18.368850Z"
    },
    "papermill": {
     "duration": 0.021008,
     "end_time": "2024-04-06T18:12:18.371554",
     "exception": false,
     "start_time": "2024-04-06T18:12:18.350546",
     "status": "completed"
    },
    "tags": []
   },
   "outputs": [],
   "source": [
    "t"
   ]
  },
  {
   "cell_type": "code",
   "execution_count": null,
   "id": "64fad6a0",
   "metadata": {
    "execution": {
     "iopub.execute_input": "2024-04-06T18:12:18.397942Z",
     "iopub.status.busy": "2024-04-06T18:12:18.397705Z",
     "iopub.status.idle": "2024-04-06T18:12:18.403531Z",
     "shell.execute_reply": "2024-04-06T18:12:18.402705Z"
    },
    "papermill": {
     "duration": 0.021142,
     "end_time": "2024-04-06T18:12:18.405363",
     "exception": false,
     "start_time": "2024-04-06T18:12:18.384221",
     "status": "completed"
    },
    "tags": []
   },
   "outputs": [],
   "source": [
    "tokenizer.decode(f)"
   ]
  },
  {
   "cell_type": "code",
   "execution_count": null,
   "id": "535deee3",
   "metadata": {
    "execution": {
     "iopub.execute_input": "2024-04-06T18:12:18.432013Z",
     "iopub.status.busy": "2024-04-06T18:12:18.431766Z",
     "iopub.status.idle": "2024-04-06T18:12:18.435839Z",
     "shell.execute_reply": "2024-04-06T18:12:18.435198Z"
    },
    "papermill": {
     "duration": 0.019409,
     "end_time": "2024-04-06T18:12:18.437594",
     "exception": false,
     "start_time": "2024-04-06T18:12:18.418185",
     "status": "completed"
    },
    "tags": []
   },
   "outputs": [],
   "source": [
    "i = train_df[\"IPA\"][0]\n",
    "ig = tokenizer.encode(i)"
   ]
  },
  {
   "cell_type": "code",
   "execution_count": null,
   "id": "d8402900",
   "metadata": {
    "execution": {
     "iopub.execute_input": "2024-04-06T18:12:18.464172Z",
     "iopub.status.busy": "2024-04-06T18:12:18.463894Z",
     "iopub.status.idle": "2024-04-06T18:12:18.468906Z",
     "shell.execute_reply": "2024-04-06T18:12:18.468084Z"
    },
    "papermill": {
     "duration": 0.020383,
     "end_time": "2024-04-06T18:12:18.470772",
     "exception": false,
     "start_time": "2024-04-06T18:12:18.450389",
     "status": "completed"
    },
    "tags": []
   },
   "outputs": [],
   "source": [
    "i"
   ]
  },
  {
   "cell_type": "code",
   "execution_count": null,
   "id": "59de38d4",
   "metadata": {
    "execution": {
     "iopub.execute_input": "2024-04-06T18:12:18.499214Z",
     "iopub.status.busy": "2024-04-06T18:12:18.498640Z",
     "iopub.status.idle": "2024-04-06T18:12:18.504407Z",
     "shell.execute_reply": "2024-04-06T18:12:18.503607Z"
    },
    "papermill": {
     "duration": 0.021609,
     "end_time": "2024-04-06T18:12:18.506265",
     "exception": false,
     "start_time": "2024-04-06T18:12:18.484656",
     "status": "completed"
    },
    "tags": []
   },
   "outputs": [],
   "source": [
    "ig"
   ]
  },
  {
   "cell_type": "code",
   "execution_count": null,
   "id": "e03eb42a",
   "metadata": {
    "execution": {
     "iopub.execute_input": "2024-04-06T18:12:18.533529Z",
     "iopub.status.busy": "2024-04-06T18:12:18.533268Z",
     "iopub.status.idle": "2024-04-06T18:12:18.537149Z",
     "shell.execute_reply": "2024-04-06T18:12:18.536289Z"
    },
    "papermill": {
     "duration": 0.019756,
     "end_time": "2024-04-06T18:12:18.539192",
     "exception": false,
     "start_time": "2024-04-06T18:12:18.519436",
     "status": "completed"
    },
    "tags": []
   },
   "outputs": [],
   "source": [
    "districts = [\"<Kishoreganj>\", \"<Narail>\", \"<Narsingdi>\", \"<Rangpur>\", \"<Tangail>\", \"<Chittagong>\"]"
   ]
  },
  {
   "cell_type": "code",
   "execution_count": null,
   "id": "19c3353a",
   "metadata": {
    "execution": {
     "iopub.execute_input": "2024-04-06T18:12:18.566858Z",
     "iopub.status.busy": "2024-04-06T18:12:18.566322Z",
     "iopub.status.idle": "2024-04-06T18:12:18.570733Z",
     "shell.execute_reply": "2024-04-06T18:12:18.570052Z"
    },
    "papermill": {
     "duration": 0.02021,
     "end_time": "2024-04-06T18:12:18.572601",
     "exception": false,
     "start_time": "2024-04-06T18:12:18.552391",
     "status": "completed"
    },
    "tags": []
   },
   "outputs": [],
   "source": [
    "tokenizer.add_tokens(districts, special_tokens=True)"
   ]
  },
  {
   "cell_type": "code",
   "execution_count": null,
   "id": "fc062838",
   "metadata": {
    "execution": {
     "iopub.execute_input": "2024-04-06T18:12:18.599881Z",
     "iopub.status.busy": "2024-04-06T18:12:18.599640Z",
     "iopub.status.idle": "2024-04-06T18:12:18.662353Z",
     "shell.execute_reply": "2024-04-06T18:12:18.661504Z"
    },
    "papermill": {
     "duration": 0.078397,
     "end_time": "2024-04-06T18:12:18.664187",
     "exception": false,
     "start_time": "2024-04-06T18:12:18.585790",
     "status": "completed"
    },
    "tags": []
   },
   "outputs": [],
   "source": [
    "len(tokenizer)"
   ]
  },
  {
   "cell_type": "code",
   "execution_count": null,
   "id": "ef866353",
   "metadata": {
    "execution": {
     "iopub.execute_input": "2024-04-06T18:12:18.691857Z",
     "iopub.status.busy": "2024-04-06T18:12:18.691401Z",
     "iopub.status.idle": "2024-04-06T18:12:18.694982Z",
     "shell.execute_reply": "2024-04-06T18:12:18.694173Z"
    },
    "papermill": {
     "duration": 0.019338,
     "end_time": "2024-04-06T18:12:18.696800",
     "exception": false,
     "start_time": "2024-04-06T18:12:18.677462",
     "status": "completed"
    },
    "tags": []
   },
   "outputs": [],
   "source": [
    "model.resize_token_embeddings(len(tokenizer))"
   ]
  },
  {
   "cell_type": "code",
   "execution_count": null,
   "id": "5b589a74",
   "metadata": {
    "execution": {
     "iopub.execute_input": "2024-04-06T18:12:18.724216Z",
     "iopub.status.busy": "2024-04-06T18:12:18.723956Z",
     "iopub.status.idle": "2024-04-06T18:12:18.728562Z",
     "shell.execute_reply": "2024-04-06T18:12:18.727869Z"
    },
    "papermill": {
     "duration": 0.020421,
     "end_time": "2024-04-06T18:12:18.730364",
     "exception": false,
     "start_time": "2024-04-06T18:12:18.709943",
     "status": "completed"
    },
    "tags": []
   },
   "outputs": [],
   "source": [
    "data_collator = DataCollatorForSeq2Seq(tokenizer)"
   ]
  },
  {
   "cell_type": "code",
   "execution_count": null,
   "id": "3824baf4",
   "metadata": {
    "execution": {
     "iopub.execute_input": "2024-04-06T18:12:18.757721Z",
     "iopub.status.busy": "2024-04-06T18:12:18.757485Z",
     "iopub.status.idle": "2024-04-06T18:12:18.832521Z",
     "shell.execute_reply": "2024-04-06T18:12:18.831858Z"
    },
    "papermill": {
     "duration": 0.090656,
     "end_time": "2024-04-06T18:12:18.834281",
     "exception": false,
     "start_time": "2024-04-06T18:12:18.743625",
     "status": "completed"
    },
    "tags": []
   },
   "outputs": [],
   "source": [
    "alpha_pat = \"[a-zA-z0-9]\"\n",
    "\n",
    "train_df[\"Contents\"] = train_df[\"Contents\"].str.replace(alpha_pat, \"\", regex=True)"
   ]
  },
  {
   "cell_type": "code",
   "execution_count": null,
   "id": "e05a994a",
   "metadata": {
    "execution": {
     "iopub.execute_input": "2024-04-06T18:12:18.861772Z",
     "iopub.status.busy": "2024-04-06T18:12:18.861538Z",
     "iopub.status.idle": "2024-04-06T18:12:18.932371Z",
     "shell.execute_reply": "2024-04-06T18:12:18.931568Z"
    },
    "papermill": {
     "duration": 0.087014,
     "end_time": "2024-04-06T18:12:18.934662",
     "exception": false,
     "start_time": "2024-04-06T18:12:18.847648",
     "status": "completed"
    },
    "tags": []
   },
   "outputs": [],
   "source": [
    "ds_train = DS.from_pandas(train_df)\n",
    "ds_eval = DS.from_pandas(val_df)"
   ]
  },
  {
   "cell_type": "code",
   "execution_count": null,
   "id": "96d9feac",
   "metadata": {
    "execution": {
     "iopub.execute_input": "2024-04-06T18:12:18.963089Z",
     "iopub.status.busy": "2024-04-06T18:12:18.962821Z",
     "iopub.status.idle": "2024-04-06T18:12:37.866435Z",
     "shell.execute_reply": "2024-04-06T18:12:37.865704Z"
    },
    "papermill": {
     "duration": 18.919947,
     "end_time": "2024-04-06T18:12:37.868400",
     "exception": false,
     "start_time": "2024-04-06T18:12:18.948453",
     "status": "completed"
    },
    "tags": []
   },
   "outputs": [],
   "source": [
    "def prepare_dataset(sample):\n",
    "    # creation of the example with the DGT.\n",
    "    output = tokenizer(f\"<{sample['District']}> {sample['Contents']}\")\n",
    "    output[\"labels\"] = tokenizer(sample[\"IPA\"])['input_ids']\n",
    "    output[\"length\"] = len(output[\"labels\"])\n",
    "    return output\n",
    "\n",
    "\n",
    "ds_train = ds_train.map(prepare_dataset, remove_columns=ds_train.column_names)\n",
    "ds_eval = ds_eval.map(prepare_dataset, remove_columns=ds_eval.column_names)"
   ]
  },
  {
   "cell_type": "code",
   "execution_count": null,
   "id": "c54fb51d",
   "metadata": {
    "execution": {
     "iopub.execute_input": "2024-04-06T18:12:37.938544Z",
     "iopub.status.busy": "2024-04-06T18:12:37.938178Z",
     "iopub.status.idle": "2024-04-06T18:12:37.947717Z",
     "shell.execute_reply": "2024-04-06T18:12:37.946985Z"
    },
    "papermill": {
     "duration": 0.026668,
     "end_time": "2024-04-06T18:12:37.949468",
     "exception": false,
     "start_time": "2024-04-06T18:12:37.922800",
     "status": "completed"
    },
    "tags": []
   },
   "outputs": [],
   "source": [
    "cer = CharErrorRate()\n",
    "wer = WordErrorRate()\n",
    "\n",
    "\n",
    "def compute_metrics(eval_preds):\n",
    "    preds, labels = eval_preds\n",
    "    \n",
    "    if isinstance(preds, tuple):\n",
    "        preds = preds[0]\n",
    "    \n",
    "    preds = np.where(preds != -100, preds, tokenizer.pad_token_id)\n",
    "    decoded_preds = tokenizer.batch_decode(preds, skip_special_tokens=True)\n",
    "\n",
    "    labels = np.where(labels != -100, labels, tokenizer.pad_token_id)\n",
    "    decoded_labels = tokenizer.batch_decode(labels, skip_special_tokens=True)\n",
    "\n",
    "    wer_res = wer(decoded_preds, decoded_labels).item()\n",
    "    cer_res = cer(decoded_preds, decoded_labels).item()\n",
    "    \n",
    "    torch.cuda.empty_cache()\n",
    "    \n",
    "    return {\"wer\": wer_res, \"cer\": cer_res}"
   ]
  },
  {
   "cell_type": "code",
   "execution_count": null,
   "id": "6deac869",
   "metadata": {
    "execution": {
     "iopub.execute_input": "2024-04-06T18:12:37.979433Z",
     "iopub.status.busy": "2024-04-06T18:12:37.979129Z",
     "iopub.status.idle": "2024-04-06T18:12:37.989204Z",
     "shell.execute_reply": "2024-04-06T18:12:37.988352Z"
    },
    "papermill": {
     "duration": 0.027041,
     "end_time": "2024-04-06T18:12:37.991219",
     "exception": false,
     "start_time": "2024-04-06T18:12:37.964178",
     "status": "completed"
    },
    "tags": []
   },
   "outputs": [],
   "source": [
    "model_id = \"mt5-base-bangla-text-to-reg-ipa\"\n",
    "\n",
    "training_args = Seq2SeqTrainingArguments(\n",
    "    output_dir=model_id,\n",
    "    group_by_length=True,\n",
    "    length_column_name=\"length\",\n",
    "    per_device_train_batch_size=2,\n",
    "    per_device_eval_batch_size=2,\n",
    "    evaluation_strategy=\"steps\",\n",
    "    metric_for_best_model=\"wer\",\n",
    "    greater_is_better=False,\n",
    "    load_best_model_at_end=True,\n",
    "    num_train_epochs=10,\n",
    "    save_steps=10000,\n",
    "    eval_steps=10000,\n",
    "    logging_steps=10000,\n",
    "    learning_rate=3e-4,\n",
    "    weight_decay=1e-2,\n",
    "    warmup_steps=1000,\n",
    "    save_total_limit=1,\n",
    "    predict_with_generate=True,\n",
    "    generation_max_length=512,\n",
    "    push_to_hub=False,\n",
    "    report_to=\"none\",\n",
    "    fp16=True\n",
    ")"
   ]
  },
  {
   "cell_type": "code",
   "execution_count": null,
   "id": "2dcdd6f0",
   "metadata": {
    "execution": {
     "iopub.execute_input": "2024-04-06T18:12:38.019788Z",
     "iopub.status.busy": "2024-04-06T18:12:38.019522Z",
     "iopub.status.idle": "2024-04-06T18:12:38.023520Z",
     "shell.execute_reply": "2024-04-06T18:12:38.022708Z"
    },
    "papermill": {
     "duration": 0.020306,
     "end_time": "2024-04-06T18:12:38.025369",
     "exception": false,
     "start_time": "2024-04-06T18:12:38.005063",
     "status": "completed"
    },
    "tags": []
   },
   "outputs": [],
   "source": [
    "torch.cuda.empty_cache()"
   ]
  },
  {
   "cell_type": "code",
   "execution_count": null,
   "id": "c7d9294b",
   "metadata": {
    "execution": {
     "iopub.execute_input": "2024-04-06T18:12:38.054348Z",
     "iopub.status.busy": "2024-04-06T18:12:38.053443Z",
     "iopub.status.idle": "2024-04-07T04:38:01.888536Z",
     "shell.execute_reply": "2024-04-07T04:38:01.887705Z"
    },
    "papermill": {
     "duration": 37523.851891,
     "end_time": "2024-04-07T04:38:01.890754",
     "exception": false,
     "start_time": "2024-04-06T18:12:38.038863",
     "status": "completed"
    },
    "tags": []
   },
   "outputs": [],
   "source": [
    "trainer = Seq2SeqTrainer(\n",
    "    model=model,\n",
    "    tokenizer=tokenizer,\n",
    "    args=training_args,\n",
    "    train_dataset=ds_train,\n",
    "    eval_dataset=ds_eval,\n",
    "    data_collator=data_collator,\n",
    "    compute_metrics=compute_metrics\n",
    ")\n",
    "\n",
    "\n",
    "trainer.train()\n",
    "\n",
    "\n",
    "torch.cuda.empty_cache()"
   ]
  },
  {
   "cell_type": "code",
   "execution_count": null,
   "id": "edd1cbe1",
   "metadata": {
    "execution": {
     "iopub.execute_input": "2024-04-07T04:38:01.921298Z",
     "iopub.status.busy": "2024-04-07T04:38:01.920945Z",
     "iopub.status.idle": "2024-04-07T04:38:06.888348Z",
     "shell.execute_reply": "2024-04-07T04:38:06.887580Z"
    },
    "papermill": {
     "duration": 4.985344,
     "end_time": "2024-04-07T04:38:06.890782",
     "exception": false,
     "start_time": "2024-04-07T04:38:01.905438",
     "status": "completed"
    },
    "tags": []
   },
   "outputs": [],
   "source": [
    "trainer.save_model(model_id)"
   ]
  },
  {
   "cell_type": "code",
   "execution_count": null,
   "id": "b095584a",
   "metadata": {
    "execution": {
     "iopub.execute_input": "2024-04-07T04:38:06.922203Z",
     "iopub.status.busy": "2024-04-07T04:38:06.921856Z",
     "iopub.status.idle": "2024-04-07T04:38:06.928906Z",
     "shell.execute_reply": "2024-04-07T04:38:06.928141Z"
    },
    "papermill": {
     "duration": 0.024817,
     "end_time": "2024-04-07T04:38:06.930780",
     "exception": false,
     "start_time": "2024-04-07T04:38:06.905963",
     "status": "completed"
    },
    "tags": []
   },
   "outputs": [],
   "source": [
    "logs = trainer.state.log_history\n",
    "logs"
   ]
  },
  {
   "cell_type": "code",
   "execution_count": null,
   "id": "ce12a1f8",
   "metadata": {
    "execution": {
     "iopub.execute_input": "2024-04-07T04:38:06.961123Z",
     "iopub.status.busy": "2024-04-07T04:38:06.960874Z",
     "iopub.status.idle": "2024-04-07T04:38:06.982568Z",
     "shell.execute_reply": "2024-04-07T04:38:06.981715Z"
    },
    "papermill": {
     "duration": 0.039054,
     "end_time": "2024-04-07T04:38:06.984493",
     "exception": false,
     "start_time": "2024-04-07T04:38:06.945439",
     "status": "completed"
    },
    "tags": []
   },
   "outputs": [],
   "source": [
    "logsdf = pd.DataFrame(logs)\n",
    "logsdf.to_csv(\"logs.csv\", index=False)"
   ]
  },
  {
   "cell_type": "code",
   "execution_count": null,
   "id": "f4dceeb6",
   "metadata": {
    "execution": {
     "iopub.execute_input": "2024-04-07T04:38:07.014878Z",
     "iopub.status.busy": "2024-04-07T04:38:07.014433Z",
     "iopub.status.idle": "2024-04-07T04:38:07.018454Z",
     "shell.execute_reply": "2024-04-07T04:38:07.017598Z"
    },
    "papermill": {
     "duration": 0.021039,
     "end_time": "2024-04-07T04:38:07.020281",
     "exception": false,
     "start_time": "2024-04-07T04:38:06.999242",
     "status": "completed"
    },
    "tags": []
   },
   "outputs": [],
   "source": [
    "torch.cuda.empty_cache()"
   ]
  },
  {
   "cell_type": "code",
   "execution_count": null,
   "id": "feb0fb0e",
   "metadata": {
    "execution": {
     "iopub.execute_input": "2024-04-07T04:38:07.050769Z",
     "iopub.status.busy": "2024-04-07T04:38:07.050491Z",
     "iopub.status.idle": "2024-04-07T04:38:07.063708Z",
     "shell.execute_reply": "2024-04-07T04:38:07.062990Z"
    },
    "papermill": {
     "duration": 0.030784,
     "end_time": "2024-04-07T04:38:07.065582",
     "exception": false,
     "start_time": "2024-04-07T04:38:07.034798",
     "status": "completed"
    },
    "tags": []
   },
   "outputs": [],
   "source": [
    "test_df[\"Contents\"] = test_df[\"Contents\"].str.replace(alpha_pat, \"\", regex=True)"
   ]
  },
  {
   "cell_type": "code",
   "execution_count": null,
   "id": "10e65bb4",
   "metadata": {
    "execution": {
     "iopub.execute_input": "2024-04-07T04:38:07.096557Z",
     "iopub.status.busy": "2024-04-07T04:38:07.096034Z",
     "iopub.status.idle": "2024-04-07T04:38:13.131485Z",
     "shell.execute_reply": "2024-04-07T04:38:13.130620Z"
    },
    "papermill": {
     "duration": 6.053411,
     "end_time": "2024-04-07T04:38:13.133855",
     "exception": false,
     "start_time": "2024-04-07T04:38:07.080444",
     "status": "completed"
    },
    "tags": []
   },
   "outputs": [],
   "source": [
    "pipe = pipeline(\"text2text-generation\", model=model_id, device=device)"
   ]
  },
  {
   "cell_type": "code",
   "execution_count": null,
   "id": "7ea5201e",
   "metadata": {
    "execution": {
     "iopub.execute_input": "2024-04-07T04:38:13.166690Z",
     "iopub.status.busy": "2024-04-07T04:38:13.166030Z",
     "iopub.status.idle": "2024-04-07T04:38:13.171012Z",
     "shell.execute_reply": "2024-04-07T04:38:13.170170Z"
    },
    "papermill": {
     "duration": 0.023387,
     "end_time": "2024-04-07T04:38:13.172928",
     "exception": false,
     "start_time": "2024-04-07T04:38:13.149541",
     "status": "completed"
    },
    "tags": []
   },
   "outputs": [],
   "source": [
    "texts = test_df[\"Contents\"].tolist()\n",
    "dists = test_df[\"District\"].tolist()"
   ]
  },
  {
   "cell_type": "code",
   "execution_count": null,
   "id": "df3fd930",
   "metadata": {
    "execution": {
     "iopub.execute_input": "2024-04-07T04:38:13.205196Z",
     "iopub.status.busy": "2024-04-07T04:38:13.204883Z",
     "iopub.status.idle": "2024-04-07T04:38:13.209743Z",
     "shell.execute_reply": "2024-04-07T04:38:13.208925Z"
    },
    "papermill": {
     "duration": 0.023035,
     "end_time": "2024-04-07T04:38:13.211533",
     "exception": false,
     "start_time": "2024-04-07T04:38:13.188498",
     "status": "completed"
    },
    "tags": []
   },
   "outputs": [],
   "source": [
    "reformed_texts = [f\"<{dists[i]}> {texts[i]}\" for i in range(len(texts))]"
   ]
  },
  {
   "cell_type": "code",
   "execution_count": null,
   "id": "d39feb15",
   "metadata": {
    "execution": {
     "iopub.execute_input": "2024-04-07T04:38:13.242727Z",
     "iopub.status.busy": "2024-04-07T04:38:13.242445Z",
     "iopub.status.idle": "2024-04-07T05:02:41.039197Z",
     "shell.execute_reply": "2024-04-07T05:02:41.038356Z"
    },
    "papermill": {
     "duration": 1467.814939,
     "end_time": "2024-04-07T05:02:41.041569",
     "exception": false,
     "start_time": "2024-04-07T04:38:13.226630",
     "status": "completed"
    },
    "tags": []
   },
   "outputs": [],
   "source": [
    "ipas = pipe(reformed_texts, max_length=2048, batch_size=128)\n",
    "gen_txt = []"
   ]
  },
  {
   "cell_type": "code",
   "execution_count": null,
   "id": "35e52bf3",
   "metadata": {
    "execution": {
     "iopub.execute_input": "2024-04-07T05:02:41.074250Z",
     "iopub.status.busy": "2024-04-07T05:02:41.073889Z",
     "iopub.status.idle": "2024-04-07T05:02:41.459342Z",
     "shell.execute_reply": "2024-04-07T05:02:41.458332Z"
    },
    "papermill": {
     "duration": 0.403949,
     "end_time": "2024-04-07T05:02:41.461356",
     "exception": false,
     "start_time": "2024-04-07T05:02:41.057407",
     "status": "completed"
    },
    "tags": []
   },
   "outputs": [],
   "source": [
    "for ipa in ipas:\n",
    "    gen_txt.append(ipa[\"generated_text\"])\n",
    "    torch.cuda.empty_cache()\n",
    "\n",
    "ipas = gen_txt\n",
    "del gen_txt\n",
    "gc.collect()"
   ]
  },
  {
   "cell_type": "code",
   "execution_count": null,
   "id": "bf7005d5",
   "metadata": {
    "execution": {
     "iopub.execute_input": "2024-04-07T05:02:41.493791Z",
     "iopub.status.busy": "2024-04-07T05:02:41.493047Z",
     "iopub.status.idle": "2024-04-07T05:02:41.497130Z",
     "shell.execute_reply": "2024-04-07T05:02:41.496318Z"
    },
    "papermill": {
     "duration": 0.022145,
     "end_time": "2024-04-07T05:02:41.498929",
     "exception": false,
     "start_time": "2024-04-07T05:02:41.476784",
     "status": "completed"
    },
    "tags": []
   },
   "outputs": [],
   "source": [
    "torch.cuda.empty_cache()"
   ]
  },
  {
   "cell_type": "code",
   "execution_count": null,
   "id": "6c07008e",
   "metadata": {
    "execution": {
     "iopub.execute_input": "2024-04-07T05:02:41.530485Z",
     "iopub.status.busy": "2024-04-07T05:02:41.530179Z",
     "iopub.status.idle": "2024-04-07T05:02:41.537657Z",
     "shell.execute_reply": "2024-04-07T05:02:41.536920Z"
    },
    "papermill": {
     "duration": 0.025514,
     "end_time": "2024-04-07T05:02:41.539562",
     "exception": false,
     "start_time": "2024-04-07T05:02:41.514048",
     "status": "completed"
    },
    "tags": []
   },
   "outputs": [],
   "source": [
    "test_df[\"string\"] = ipas\n",
    "test_df = test_df.sort_index()"
   ]
  },
  {
   "cell_type": "code",
   "execution_count": null,
   "id": "a130ec19",
   "metadata": {
    "execution": {
     "iopub.execute_input": "2024-04-07T05:02:41.572040Z",
     "iopub.status.busy": "2024-04-07T05:02:41.571393Z",
     "iopub.status.idle": "2024-04-07T05:02:41.576381Z",
     "shell.execute_reply": "2024-04-07T05:02:41.575519Z"
    },
    "papermill": {
     "duration": 0.023289,
     "end_time": "2024-04-07T05:02:41.578323",
     "exception": false,
     "start_time": "2024-04-07T05:02:41.555034",
     "status": "completed"
    },
    "tags": []
   },
   "outputs": [],
   "source": [
    "preds = test_df[\"string\"].tolist()\n",
    "gts = test_df[\"IPA\"].tolist()"
   ]
  },
  {
   "cell_type": "code",
   "execution_count": null,
   "id": "4d272580",
   "metadata": {
    "execution": {
     "iopub.execute_input": "2024-04-07T05:02:41.609904Z",
     "iopub.status.busy": "2024-04-07T05:02:41.609666Z",
     "iopub.status.idle": "2024-04-07T05:02:52.187020Z",
     "shell.execute_reply": "2024-04-07T05:02:52.186017Z"
    },
    "papermill": {
     "duration": 10.595879,
     "end_time": "2024-04-07T05:02:52.189341",
     "exception": false,
     "start_time": "2024-04-07T05:02:41.593462",
     "status": "completed"
    },
    "tags": []
   },
   "outputs": [],
   "source": [
    "wer_res = wer(preds, gts).item()\n",
    "cer_res = cer(preds, gts).item()"
   ]
  },
  {
   "cell_type": "code",
   "execution_count": null,
   "id": "59b45043",
   "metadata": {
    "execution": {
     "iopub.execute_input": "2024-04-07T05:02:52.221874Z",
     "iopub.status.busy": "2024-04-07T05:02:52.221573Z",
     "iopub.status.idle": "2024-04-07T05:02:52.226509Z",
     "shell.execute_reply": "2024-04-07T05:02:52.225601Z"
    },
    "papermill": {
     "duration": 0.023233,
     "end_time": "2024-04-07T05:02:52.228708",
     "exception": false,
     "start_time": "2024-04-07T05:02:52.205475",
     "status": "completed"
    },
    "tags": []
   },
   "outputs": [],
   "source": [
    "print(f\"\"\"\n",
    "    Word error rate: {wer_res},\n",
    "    Char error rate: {cer_res},\n",
    "\"\"\")"
   ]
  }
 ],
 "metadata": {
  "kaggle": {
   "accelerator": "nvidiaTeslaT4",
   "dataSources": [
    {
     "datasetId": 4547095,
     "sourceId": 7781205,
     "sourceType": "datasetVersion"
    },
    {
     "datasetId": 4722360,
     "sourceId": 8047635,
     "sourceType": "datasetVersion"
    }
   ],
   "dockerImageVersionId": 30648,
   "isGpuEnabled": true,
   "isInternetEnabled": true,
   "language": "python",
   "sourceType": "notebook"
  },
  "kernelspec": {
   "display_name": "Python 3",
   "language": "python",
   "name": "python3"
  },
  "language_info": {
   "codemirror_mode": {
    "name": "ipython",
    "version": 3
   },
   "file_extension": ".py",
   "mimetype": "text/x-python",
   "name": "python",
   "nbconvert_exporter": "python",
   "pygments_lexer": "ipython3",
   "version": "3.10.13"
  },
  "papermill": {
   "default_parameters": {},
   "duration": 39101.483289,
   "end_time": "2024-04-07T05:03:10.863779",
   "environment_variables": {},
   "exception": null,
   "input_path": "__notebook__.ipynb",
   "output_path": "__notebook__.ipynb",
   "parameters": {},
   "start_time": "2024-04-06T18:11:29.380490",
   "version": "2.5.0"
  },
  "widgets": {
   "application/vnd.jupyter.widget-state+json": {
    "state": {
     "08c5b3a724054b9597089346457df002": {
      "model_module": "@jupyter-widgets/base",
      "model_module_version": "1.2.0",
      "model_name": "LayoutModel",
      "state": {
       "_model_module": "@jupyter-widgets/base",
       "_model_module_version": "1.2.0",
       "_model_name": "LayoutModel",
       "_view_count": null,
       "_view_module": "@jupyter-widgets/base",
       "_view_module_version": "1.2.0",
       "_view_name": "LayoutView",
       "align_content": null,
       "align_items": null,
       "align_self": null,
       "border": null,
       "bottom": null,
       "display": null,
       "flex": null,
       "flex_flow": null,
       "grid_area": null,
       "grid_auto_columns": null,
       "grid_auto_flow": null,
       "grid_auto_rows": null,
       "grid_column": null,
       "grid_gap": null,
       "grid_row": null,
       "grid_template_areas": null,
       "grid_template_columns": null,
       "grid_template_rows": null,
       "height": null,
       "justify_content": null,
       "justify_items": null,
       "left": null,
       "margin": null,
       "max_height": null,
       "max_width": null,
       "min_height": null,
       "min_width": null,
       "object_fit": null,
       "object_position": null,
       "order": null,
       "overflow": null,
       "overflow_x": null,
       "overflow_y": null,
       "padding": null,
       "right": null,
       "top": null,
       "visibility": null,
       "width": null
      }
     },
     "0975108749cc4c91b6033c2172e77560": {
      "model_module": "@jupyter-widgets/controls",
      "model_module_version": "1.5.0",
      "model_name": "DescriptionStyleModel",
      "state": {
       "_model_module": "@jupyter-widgets/controls",
       "_model_module_version": "1.5.0",
       "_model_name": "DescriptionStyleModel",
       "_view_count": null,
       "_view_module": "@jupyter-widgets/base",
       "_view_module_version": "1.2.0",
       "_view_name": "StyleView",
       "description_width": ""
      }
     },
     "1381a5e256914880881a542faff516a2": {
      "model_module": "@jupyter-widgets/controls",
      "model_module_version": "1.5.0",
      "model_name": "FloatProgressModel",
      "state": {
       "_dom_classes": [],
       "_model_module": "@jupyter-widgets/controls",
       "_model_module_version": "1.5.0",
       "_model_name": "FloatProgressModel",
       "_view_count": null,
       "_view_module": "@jupyter-widgets/controls",
       "_view_module_version": "1.5.0",
       "_view_name": "ProgressView",
       "bar_style": "success",
       "description": "",
       "description_tooltip": null,
       "layout": "IPY_MODEL_398f4c8786fc410196744415a5f9ea56",
       "max": 49101,
       "min": 0,
       "orientation": "horizontal",
       "style": "IPY_MODEL_5c877e3a45f24a95802d1f9e19f180ee",
       "value": 49101
      }
     },
     "2a6a2688b8514f6488401768c1bd9a64": {
      "model_module": "@jupyter-widgets/controls",
      "model_module_version": "1.5.0",
      "model_name": "FloatProgressModel",
      "state": {
       "_dom_classes": [],
       "_model_module": "@jupyter-widgets/controls",
       "_model_module_version": "1.5.0",
       "_model_name": "FloatProgressModel",
       "_view_count": null,
       "_view_module": "@jupyter-widgets/controls",
       "_view_module_version": "1.5.0",
       "_view_name": "ProgressView",
       "bar_style": "success",
       "description": "",
       "description_tooltip": null,
       "layout": "IPY_MODEL_08c5b3a724054b9597089346457df002",
       "max": 5456,
       "min": 0,
       "orientation": "horizontal",
       "style": "IPY_MODEL_dc70130064e14f2e9028653a795b235d",
       "value": 5456
      }
     },
     "2e958b2f417b43a7b3f699dd798514ef": {
      "model_module": "@jupyter-widgets/controls",
      "model_module_version": "1.5.0",
      "model_name": "DescriptionStyleModel",
      "state": {
       "_model_module": "@jupyter-widgets/controls",
       "_model_module_version": "1.5.0",
       "_model_name": "DescriptionStyleModel",
       "_view_count": null,
       "_view_module": "@jupyter-widgets/base",
       "_view_module_version": "1.2.0",
       "_view_name": "StyleView",
       "description_width": ""
      }
     },
     "398f4c8786fc410196744415a5f9ea56": {
      "model_module": "@jupyter-widgets/base",
      "model_module_version": "1.2.0",
      "model_name": "LayoutModel",
      "state": {
       "_model_module": "@jupyter-widgets/base",
       "_model_module_version": "1.2.0",
       "_model_name": "LayoutModel",
       "_view_count": null,
       "_view_module": "@jupyter-widgets/base",
       "_view_module_version": "1.2.0",
       "_view_name": "LayoutView",
       "align_content": null,
       "align_items": null,
       "align_self": null,
       "border": null,
       "bottom": null,
       "display": null,
       "flex": null,
       "flex_flow": null,
       "grid_area": null,
       "grid_auto_columns": null,
       "grid_auto_flow": null,
       "grid_auto_rows": null,
       "grid_column": null,
       "grid_gap": null,
       "grid_row": null,
       "grid_template_areas": null,
       "grid_template_columns": null,
       "grid_template_rows": null,
       "height": null,
       "justify_content": null,
       "justify_items": null,
       "left": null,
       "margin": null,
       "max_height": null,
       "max_width": null,
       "min_height": null,
       "min_width": null,
       "object_fit": null,
       "object_position": null,
       "order": null,
       "overflow": null,
       "overflow_x": null,
       "overflow_y": null,
       "padding": null,
       "right": null,
       "top": null,
       "visibility": null,
       "width": null
      }
     },
     "42f6a1fc2253488091e72a6a39289084": {
      "model_module": "@jupyter-widgets/controls",
      "model_module_version": "1.5.0",
      "model_name": "HBoxModel",
      "state": {
       "_dom_classes": [],
       "_model_module": "@jupyter-widgets/controls",
       "_model_module_version": "1.5.0",
       "_model_name": "HBoxModel",
       "_view_count": null,
       "_view_module": "@jupyter-widgets/controls",
       "_view_module_version": "1.5.0",
       "_view_name": "HBoxView",
       "box_style": "",
       "children": [
        "IPY_MODEL_f430160160284017ab2be5434fed88d4",
        "IPY_MODEL_2a6a2688b8514f6488401768c1bd9a64",
        "IPY_MODEL_91c0da643dac455f968ed966da64f4b0"
       ],
       "layout": "IPY_MODEL_c03b6d78f5544fbdb3736aba74404d39"
      }
     },
     "46105e31f9c646f5b79880fbb0727486": {
      "model_module": "@jupyter-widgets/controls",
      "model_module_version": "1.5.0",
      "model_name": "DescriptionStyleModel",
      "state": {
       "_model_module": "@jupyter-widgets/controls",
       "_model_module_version": "1.5.0",
       "_model_name": "DescriptionStyleModel",
       "_view_count": null,
       "_view_module": "@jupyter-widgets/base",
       "_view_module_version": "1.2.0",
       "_view_name": "StyleView",
       "description_width": ""
      }
     },
     "53fdc8b316d44850b96154796066e937": {
      "model_module": "@jupyter-widgets/base",
      "model_module_version": "1.2.0",
      "model_name": "LayoutModel",
      "state": {
       "_model_module": "@jupyter-widgets/base",
       "_model_module_version": "1.2.0",
       "_model_name": "LayoutModel",
       "_view_count": null,
       "_view_module": "@jupyter-widgets/base",
       "_view_module_version": "1.2.0",
       "_view_name": "LayoutView",
       "align_content": null,
       "align_items": null,
       "align_self": null,
       "border": null,
       "bottom": null,
       "display": null,
       "flex": null,
       "flex_flow": null,
       "grid_area": null,
       "grid_auto_columns": null,
       "grid_auto_flow": null,
       "grid_auto_rows": null,
       "grid_column": null,
       "grid_gap": null,
       "grid_row": null,
       "grid_template_areas": null,
       "grid_template_columns": null,
       "grid_template_rows": null,
       "height": null,
       "justify_content": null,
       "justify_items": null,
       "left": null,
       "margin": null,
       "max_height": null,
       "max_width": null,
       "min_height": null,
       "min_width": null,
       "object_fit": null,
       "object_position": null,
       "order": null,
       "overflow": null,
       "overflow_x": null,
       "overflow_y": null,
       "padding": null,
       "right": null,
       "top": null,
       "visibility": null,
       "width": null
      }
     },
     "5c877e3a45f24a95802d1f9e19f180ee": {
      "model_module": "@jupyter-widgets/controls",
      "model_module_version": "1.5.0",
      "model_name": "ProgressStyleModel",
      "state": {
       "_model_module": "@jupyter-widgets/controls",
       "_model_module_version": "1.5.0",
       "_model_name": "ProgressStyleModel",
       "_view_count": null,
       "_view_module": "@jupyter-widgets/base",
       "_view_module_version": "1.2.0",
       "_view_name": "StyleView",
       "bar_color": null,
       "description_width": ""
      }
     },
     "84e9bf8eec9a4ae4b8f612f202af670a": {
      "model_module": "@jupyter-widgets/base",
      "model_module_version": "1.2.0",
      "model_name": "LayoutModel",
      "state": {
       "_model_module": "@jupyter-widgets/base",
       "_model_module_version": "1.2.0",
       "_model_name": "LayoutModel",
       "_view_count": null,
       "_view_module": "@jupyter-widgets/base",
       "_view_module_version": "1.2.0",
       "_view_name": "LayoutView",
       "align_content": null,
       "align_items": null,
       "align_self": null,
       "border": null,
       "bottom": null,
       "display": null,
       "flex": null,
       "flex_flow": null,
       "grid_area": null,
       "grid_auto_columns": null,
       "grid_auto_flow": null,
       "grid_auto_rows": null,
       "grid_column": null,
       "grid_gap": null,
       "grid_row": null,
       "grid_template_areas": null,
       "grid_template_columns": null,
       "grid_template_rows": null,
       "height": null,
       "justify_content": null,
       "justify_items": null,
       "left": null,
       "margin": null,
       "max_height": null,
       "max_width": null,
       "min_height": null,
       "min_width": null,
       "object_fit": null,
       "object_position": null,
       "order": null,
       "overflow": null,
       "overflow_x": null,
       "overflow_y": null,
       "padding": null,
       "right": null,
       "top": null,
       "visibility": null,
       "width": null
      }
     },
     "8eee4808a5be4d62bf4949a2d1773fe4": {
      "model_module": "@jupyter-widgets/base",
      "model_module_version": "1.2.0",
      "model_name": "LayoutModel",
      "state": {
       "_model_module": "@jupyter-widgets/base",
       "_model_module_version": "1.2.0",
       "_model_name": "LayoutModel",
       "_view_count": null,
       "_view_module": "@jupyter-widgets/base",
       "_view_module_version": "1.2.0",
       "_view_name": "LayoutView",
       "align_content": null,
       "align_items": null,
       "align_self": null,
       "border": null,
       "bottom": null,
       "display": null,
       "flex": null,
       "flex_flow": null,
       "grid_area": null,
       "grid_auto_columns": null,
       "grid_auto_flow": null,
       "grid_auto_rows": null,
       "grid_column": null,
       "grid_gap": null,
       "grid_row": null,
       "grid_template_areas": null,
       "grid_template_columns": null,
       "grid_template_rows": null,
       "height": null,
       "justify_content": null,
       "justify_items": null,
       "left": null,
       "margin": null,
       "max_height": null,
       "max_width": null,
       "min_height": null,
       "min_width": null,
       "object_fit": null,
       "object_position": null,
       "order": null,
       "overflow": null,
       "overflow_x": null,
       "overflow_y": null,
       "padding": null,
       "right": null,
       "top": null,
       "visibility": null,
       "width": null
      }
     },
     "91c0da643dac455f968ed966da64f4b0": {
      "model_module": "@jupyter-widgets/controls",
      "model_module_version": "1.5.0",
      "model_name": "HTMLModel",
      "state": {
       "_dom_classes": [],
       "_model_module": "@jupyter-widgets/controls",
       "_model_module_version": "1.5.0",
       "_model_name": "HTMLModel",
       "_view_count": null,
       "_view_module": "@jupyter-widgets/controls",
       "_view_module_version": "1.5.0",
       "_view_name": "HTMLView",
       "description": "",
       "description_tooltip": null,
       "layout": "IPY_MODEL_53fdc8b316d44850b96154796066e937",
       "placeholder": "​",
       "style": "IPY_MODEL_46105e31f9c646f5b79880fbb0727486",
       "value": " 5456/5456 [00:01&lt;00:00, 2989.64ex/s]"
      }
     },
     "9b194ceb122d45479a4fd6a4a10308ab": {
      "model_module": "@jupyter-widgets/controls",
      "model_module_version": "1.5.0",
      "model_name": "DescriptionStyleModel",
      "state": {
       "_model_module": "@jupyter-widgets/controls",
       "_model_module_version": "1.5.0",
       "_model_name": "DescriptionStyleModel",
       "_view_count": null,
       "_view_module": "@jupyter-widgets/base",
       "_view_module_version": "1.2.0",
       "_view_name": "StyleView",
       "description_width": ""
      }
     },
     "c03b6d78f5544fbdb3736aba74404d39": {
      "model_module": "@jupyter-widgets/base",
      "model_module_version": "1.2.0",
      "model_name": "LayoutModel",
      "state": {
       "_model_module": "@jupyter-widgets/base",
       "_model_module_version": "1.2.0",
       "_model_name": "LayoutModel",
       "_view_count": null,
       "_view_module": "@jupyter-widgets/base",
       "_view_module_version": "1.2.0",
       "_view_name": "LayoutView",
       "align_content": null,
       "align_items": null,
       "align_self": null,
       "border": null,
       "bottom": null,
       "display": null,
       "flex": null,
       "flex_flow": null,
       "grid_area": null,
       "grid_auto_columns": null,
       "grid_auto_flow": null,
       "grid_auto_rows": null,
       "grid_column": null,
       "grid_gap": null,
       "grid_row": null,
       "grid_template_areas": null,
       "grid_template_columns": null,
       "grid_template_rows": null,
       "height": null,
       "justify_content": null,
       "justify_items": null,
       "left": null,
       "margin": null,
       "max_height": null,
       "max_width": null,
       "min_height": null,
       "min_width": null,
       "object_fit": null,
       "object_position": null,
       "order": null,
       "overflow": null,
       "overflow_x": null,
       "overflow_y": null,
       "padding": null,
       "right": null,
       "top": null,
       "visibility": null,
       "width": null
      }
     },
     "c0f1477747fb45409ba5bf9a6b2f2d8e": {
      "model_module": "@jupyter-widgets/base",
      "model_module_version": "1.2.0",
      "model_name": "LayoutModel",
      "state": {
       "_model_module": "@jupyter-widgets/base",
       "_model_module_version": "1.2.0",
       "_model_name": "LayoutModel",
       "_view_count": null,
       "_view_module": "@jupyter-widgets/base",
       "_view_module_version": "1.2.0",
       "_view_name": "LayoutView",
       "align_content": null,
       "align_items": null,
       "align_self": null,
       "border": null,
       "bottom": null,
       "display": null,
       "flex": null,
       "flex_flow": null,
       "grid_area": null,
       "grid_auto_columns": null,
       "grid_auto_flow": null,
       "grid_auto_rows": null,
       "grid_column": null,
       "grid_gap": null,
       "grid_row": null,
       "grid_template_areas": null,
       "grid_template_columns": null,
       "grid_template_rows": null,
       "height": null,
       "justify_content": null,
       "justify_items": null,
       "left": null,
       "margin": null,
       "max_height": null,
       "max_width": null,
       "min_height": null,
       "min_width": null,
       "object_fit": null,
       "object_position": null,
       "order": null,
       "overflow": null,
       "overflow_x": null,
       "overflow_y": null,
       "padding": null,
       "right": null,
       "top": null,
       "visibility": null,
       "width": null
      }
     },
     "dc70130064e14f2e9028653a795b235d": {
      "model_module": "@jupyter-widgets/controls",
      "model_module_version": "1.5.0",
      "model_name": "ProgressStyleModel",
      "state": {
       "_model_module": "@jupyter-widgets/controls",
       "_model_module_version": "1.5.0",
       "_model_name": "ProgressStyleModel",
       "_view_count": null,
       "_view_module": "@jupyter-widgets/base",
       "_view_module_version": "1.2.0",
       "_view_name": "StyleView",
       "bar_color": null,
       "description_width": ""
      }
     },
     "e0d25c45853e485b8610d848f4cb102f": {
      "model_module": "@jupyter-widgets/controls",
      "model_module_version": "1.5.0",
      "model_name": "HBoxModel",
      "state": {
       "_dom_classes": [],
       "_model_module": "@jupyter-widgets/controls",
       "_model_module_version": "1.5.0",
       "_model_name": "HBoxModel",
       "_view_count": null,
       "_view_module": "@jupyter-widgets/controls",
       "_view_module_version": "1.5.0",
       "_view_name": "HBoxView",
       "box_style": "",
       "children": [
        "IPY_MODEL_fae4f31be0d54d4aab476c4eb0851bf7",
        "IPY_MODEL_1381a5e256914880881a542faff516a2",
        "IPY_MODEL_f53213b1a95143ab800c30d0c35e0a65"
       ],
       "layout": "IPY_MODEL_f1c048a69460468590ee0a9e1b79ceba"
      }
     },
     "f1c048a69460468590ee0a9e1b79ceba": {
      "model_module": "@jupyter-widgets/base",
      "model_module_version": "1.2.0",
      "model_name": "LayoutModel",
      "state": {
       "_model_module": "@jupyter-widgets/base",
       "_model_module_version": "1.2.0",
       "_model_name": "LayoutModel",
       "_view_count": null,
       "_view_module": "@jupyter-widgets/base",
       "_view_module_version": "1.2.0",
       "_view_name": "LayoutView",
       "align_content": null,
       "align_items": null,
       "align_self": null,
       "border": null,
       "bottom": null,
       "display": null,
       "flex": null,
       "flex_flow": null,
       "grid_area": null,
       "grid_auto_columns": null,
       "grid_auto_flow": null,
       "grid_auto_rows": null,
       "grid_column": null,
       "grid_gap": null,
       "grid_row": null,
       "grid_template_areas": null,
       "grid_template_columns": null,
       "grid_template_rows": null,
       "height": null,
       "justify_content": null,
       "justify_items": null,
       "left": null,
       "margin": null,
       "max_height": null,
       "max_width": null,
       "min_height": null,
       "min_width": null,
       "object_fit": null,
       "object_position": null,
       "order": null,
       "overflow": null,
       "overflow_x": null,
       "overflow_y": null,
       "padding": null,
       "right": null,
       "top": null,
       "visibility": null,
       "width": null
      }
     },
     "f430160160284017ab2be5434fed88d4": {
      "model_module": "@jupyter-widgets/controls",
      "model_module_version": "1.5.0",
      "model_name": "HTMLModel",
      "state": {
       "_dom_classes": [],
       "_model_module": "@jupyter-widgets/controls",
       "_model_module_version": "1.5.0",
       "_model_name": "HTMLModel",
       "_view_count": null,
       "_view_module": "@jupyter-widgets/controls",
       "_view_module_version": "1.5.0",
       "_view_name": "HTMLView",
       "description": "",
       "description_tooltip": null,
       "layout": "IPY_MODEL_8eee4808a5be4d62bf4949a2d1773fe4",
       "placeholder": "​",
       "style": "IPY_MODEL_0975108749cc4c91b6033c2172e77560",
       "value": "100%"
      }
     },
     "f53213b1a95143ab800c30d0c35e0a65": {
      "model_module": "@jupyter-widgets/controls",
      "model_module_version": "1.5.0",
      "model_name": "HTMLModel",
      "state": {
       "_dom_classes": [],
       "_model_module": "@jupyter-widgets/controls",
       "_model_module_version": "1.5.0",
       "_model_name": "HTMLModel",
       "_view_count": null,
       "_view_module": "@jupyter-widgets/controls",
       "_view_module_version": "1.5.0",
       "_view_name": "HTMLView",
       "description": "",
       "description_tooltip": null,
       "layout": "IPY_MODEL_c0f1477747fb45409ba5bf9a6b2f2d8e",
       "placeholder": "​",
       "style": "IPY_MODEL_2e958b2f417b43a7b3f699dd798514ef",
       "value": " 49101/49101 [00:16&lt;00:00, 2970.52ex/s]"
      }
     },
     "fae4f31be0d54d4aab476c4eb0851bf7": {
      "model_module": "@jupyter-widgets/controls",
      "model_module_version": "1.5.0",
      "model_name": "HTMLModel",
      "state": {
       "_dom_classes": [],
       "_model_module": "@jupyter-widgets/controls",
       "_model_module_version": "1.5.0",
       "_model_name": "HTMLModel",
       "_view_count": null,
       "_view_module": "@jupyter-widgets/controls",
       "_view_module_version": "1.5.0",
       "_view_name": "HTMLView",
       "description": "",
       "description_tooltip": null,
       "layout": "IPY_MODEL_84e9bf8eec9a4ae4b8f612f202af670a",
       "placeholder": "​",
       "style": "IPY_MODEL_9b194ceb122d45479a4fd6a4a10308ab",
       "value": "100%"
      }
     }
    },
    "version_major": 2,
    "version_minor": 0
   }
  }
 },
 "nbformat": 4,
 "nbformat_minor": 5
}
